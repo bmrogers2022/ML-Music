{
 "cells": [
  {
   "cell_type": "code",
   "execution_count": 39,
   "id": "892c87d9",
   "metadata": {},
   "outputs": [
    {
     "name": "stdout",
     "output_type": "stream",
     "text": [
      "Collecting midi2audio\n",
      "  Downloading midi2audio-0.1.1-py2.py3-none-any.whl.metadata (5.7 kB)\n",
      "Downloading midi2audio-0.1.1-py2.py3-none-any.whl (8.7 kB)\n",
      "Installing collected packages: midi2audio\n",
      "Successfully installed midi2audio-0.1.1\n"
     ]
    },
    {
     "name": "stderr",
     "output_type": "stream",
     "text": [
      "\n",
      "[notice] A new release of pip is available: 25.1 -> 25.1.1\n",
      "[notice] To update, run: C:\\Users\\enriq\\AppData\\Local\\Microsoft\\WindowsApps\\PythonSoftwareFoundation.Python.3.11_qbz5n2kfra8p0\\python.exe -m pip install --upgrade pip\n"
     ]
    }
   ],
   "source": [
    "#!pip install miditok\n",
    "#!pip install symusic\n",
    "#!pip install glob\n",
    "#!pip install torch\n",
    "!pip install midi2audio\n"
   ]
  },
  {
   "cell_type": "code",
   "execution_count": 40,
   "id": "012f5709",
   "metadata": {},
   "outputs": [],
   "source": [
    "import glob\n",
    "import random\n",
    "from typing import List\n",
    "from collections import defaultdict\n",
    "import midi2audio\n",
    "\n",
    "import numpy as np\n",
    "from numpy.random import choice\n",
    "\n",
    "import torch\n",
    "import torch.nn as nn\n",
    "import torch.optim as optim\n",
    "import torch.nn.functional as F\n",
    "from torch.utils.data import Dataset, DataLoader\n",
    "\n",
    "from symusic import Score\n",
    "from miditok import REMI, TokenizerConfig"
   ]
  },
  {
   "cell_type": "code",
   "execution_count": 26,
   "id": "255bf256",
   "metadata": {},
   "outputs": [],
   "source": [
    "# Use 'cuda' to run on a gpu\n",
    "DEVICE = 'cpu'\n",
    "#DEVICE = 'cuda'"
   ]
  },
  {
   "cell_type": "code",
   "execution_count": null,
   "id": "0eef4eb1",
   "metadata": {
    "vscode": {
     "languageId": "lua"
    }
   },
   "outputs": [
    {
     "name": "stdout",
     "output_type": "stream",
     "text": [
      "Unzipped POP909.zip to ./data\n"
     ]
    }
   ],
   "source": [
    "import zipfile\n",
    "\n",
    "with zipfile.ZipFile(\"POP909.zip\", \"r\") as zip_ref:\n",
    "    zip_ref.extractall(\"./data\")\n",
    "print(\"Unzipped POP909.zip to ./data\")\n"
   ]
  },
  {
   "cell_type": "code",
   "execution_count": null,
   "id": "834e5b84",
   "metadata": {},
   "outputs": [
    {
     "name": "stdout",
     "output_type": "stream",
     "text": [
      "Found 909 training files and 0 test files.\n"
     ]
    }
   ],
   "source": [
    "# train_files = glob.glob(\"./data/POP909/*/*.mid\")\n",
    "# test_files = glob.glob(\"./data/POP909/test/*.mid\")\n",
    "# print(f\"Found {len(train_files)} training files and {len(test_files)} test files.\")"
   ]
  },
  {
   "cell_type": "code",
   "execution_count": 28,
   "id": "9547bf19",
   "metadata": {},
   "outputs": [
    {
     "name": "stdout",
     "output_type": "stream",
     "text": [
      "Training files: 727, Testing files: 182\n"
     ]
    }
   ],
   "source": [
    "import random\n",
    "\n",
    "all_files = glob.glob(\"./data/POP909/*/*.mid\")\n",
    "random.shuffle(all_files)\n",
    "\n",
    "split_idx = int(0.8 * len(all_files))\n",
    "train_files = all_files[:split_idx]\n",
    "test_files = all_files[split_idx:]\n",
    "\n",
    "print(f\"Training files: {len(train_files)}, Testing files: {len(test_files)}\")"
   ]
  },
  {
   "cell_type": "code",
   "execution_count": null,
   "id": "5c60d673",
   "metadata": {},
   "outputs": [
    {
     "name": "stdout",
     "output_type": "stream",
     "text": [
      "Found 0 training files and 0 test files.\n"
     ]
    }
   ],
   "source": [
    "#train_files = glob.glob(\"./data/POP909/*.mid\")\n",
    "#test_files = glob.glob(\"./data/test/*.mid\")\n"
   ]
  },
  {
   "cell_type": "code",
   "execution_count": 29,
   "id": "5691ee3d",
   "metadata": {},
   "outputs": [
    {
     "name": "stdout",
     "output_type": "stream",
     "text": [
      "b'./data/POP909\\\\011\\\\011.mid'\n"
     ]
    },
    {
     "data": {
      "text/plain": [
       "b'./data/POP909\\\\011\\\\011.mid'"
      ]
     },
     "execution_count": 29,
     "metadata": {},
     "output_type": "execute_result"
    }
   ],
   "source": [
    "type(train_files[0])\n",
    "train_files[0].encode('utf-8').decode('utf-8')\n",
    "print(train_files[0].encode('utf-8'))\n",
    "str.encode(train_files[0], 'utf-8')"
   ]
  },
  {
   "cell_type": "code",
   "execution_count": 30,
   "id": "7f30258d",
   "metadata": {},
   "outputs": [],
   "source": [
    "from miditok.pytorch_data import DatasetMIDI, DataCollator\n",
    "\n",
    "tokenizer = REMI()  # using defaults parameters (constants.py)\n",
    "train_dataset = DatasetMIDI(\n",
    "    files_paths=train_files,\n",
    "    tokenizer=tokenizer,\n",
    "    max_seq_len=1024,\n",
    "    bos_token_id=tokenizer[\"BOS_None\"],\n",
    "    eos_token_id=tokenizer[\"EOS_None\"],\n",
    ")\n",
    "test_dataset = DatasetMIDI(\n",
    "    files_paths=test_files,\n",
    "    tokenizer=tokenizer,\n",
    "    max_seq_len=1024,\n",
    "    bos_token_id=tokenizer[\"BOS_None\"],\n",
    "    eos_token_id=tokenizer[\"EOS_None\"],\n",
    ")\n",
    "collator = DataCollator(tokenizer.pad_token_id)\n",
    "train_loader = DataLoader(train_dataset, batch_size=4, shuffle=True, collate_fn=collator)\n",
    "test_loader = DataLoader(test_dataset, batch_size=4, shuffle=False, collate_fn=collator)"
   ]
  },
  {
   "cell_type": "code",
   "execution_count": 31,
   "id": "35331c71",
   "metadata": {},
   "outputs": [
    {
     "data": {
      "text/plain": [
       "(182, 46)"
      ]
     },
     "execution_count": 31,
     "metadata": {},
     "output_type": "execute_result"
    }
   ],
   "source": [
    "len(train_loader), len(test_loader)"
   ]
  },
  {
   "cell_type": "markdown",
   "id": "4794e05e",
   "metadata": {},
   "source": [
    "### RNN"
   ]
  },
  {
   "cell_type": "code",
   "execution_count": 34,
   "id": "c74c73fe",
   "metadata": {},
   "outputs": [],
   "source": [
    "class MusicRNN(nn.Module):\n",
    "    def __init__(self, vocab_size, embedding_dim, hidden_dim, num_layers):\n",
    "        super(MusicRNN, self).__init__()\n",
    "        self.embedding = nn.Embedding(vocab_size, embedding_dim)\n",
    "        self.rnn = nn.LSTM(\n",
    "            input_size=embedding_dim,\n",
    "            hidden_size=hidden_dim,\n",
    "            num_layers=num_layers,\n",
    "            batch_first=True\n",
    "        )\n",
    "        self.fc = nn.Linear(hidden_dim, vocab_size)\n",
    "\n",
    "    def forward(self, x, hidden=None):\n",
    "        # x: (batch_size, seq_length)\n",
    "        x = self.embedding(x)  # (batch_size, seq_length, embedding_dim)\n",
    "        out, hidden = self.rnn(x, hidden)  # out: (batch_size, seq_length, hidden_dim)\n",
    "        out = self.fc(out)  # (batch_size, seq_length, vocab_size)\n",
    "        return out, hidden"
   ]
  },
  {
   "cell_type": "markdown",
   "id": "7097e0ab",
   "metadata": {},
   "source": [
    "Training"
   ]
  },
  {
   "cell_type": "code",
   "execution_count": 35,
   "id": "831bd37a",
   "metadata": {},
   "outputs": [
    {
     "name": "stdout",
     "output_type": "stream",
     "text": [
      "Epoch 1/20 | Train Loss: 3.2900 | Val Loss: 2.6637\n",
      "Epoch 2/20 | Train Loss: 2.5365 | Val Loss: 2.4047\n",
      "Epoch 3/20 | Train Loss: 2.2119 | Val Loss: 2.0299\n",
      "Epoch 4/20 | Train Loss: 1.9321 | Val Loss: 1.8693\n",
      "Epoch 5/20 | Train Loss: 1.7318 | Val Loss: 1.6806\n",
      "Epoch 6/20 | Train Loss: 1.6205 | Val Loss: 1.6309\n",
      "Epoch 7/20 | Train Loss: 1.5397 | Val Loss: 1.5455\n",
      "Epoch 8/20 | Train Loss: 1.4702 | Val Loss: 1.5235\n",
      "Epoch 9/20 | Train Loss: 1.4297 | Val Loss: 1.5075\n",
      "Epoch 10/20 | Train Loss: 1.3973 | Val Loss: 1.5015\n",
      "Epoch 11/20 | Train Loss: 1.3680 | Val Loss: 1.4992\n",
      "Epoch 12/20 | Train Loss: 1.3377 | Val Loss: 1.4925\n",
      "Epoch 13/20 | Train Loss: 1.3085 | Val Loss: 1.4918\n",
      "Epoch 14/20 | Train Loss: 1.2779 | Val Loss: 1.4982\n",
      "Epoch 15/20 | Train Loss: 1.2474 | Val Loss: 1.5097\n",
      "Epoch 16/20 | Train Loss: 1.2111 | Val Loss: 1.5195\n",
      "Epoch 17/20 | Train Loss: 1.1772 | Val Loss: 1.5282\n",
      "Epoch 18/20 | Train Loss: 1.1367 | Val Loss: 1.5489\n",
      "Epoch 19/20 | Train Loss: 1.0982 | Val Loss: 1.5755\n",
      "Epoch 20/20 | Train Loss: 1.0565 | Val Loss: 1.5903\n"
     ]
    }
   ],
   "source": [
    "def train(model, train_loader, val_loader, vocab_size, num_epochs=20, lr=0.001, device=DEVICE):\n",
    "    model = model.to(device)\n",
    "    criterion = nn.CrossEntropyLoss()\n",
    "    optimizer = optim.Adam(model.parameters(), lr=lr)\n",
    "\n",
    "    for epoch in range(num_epochs):\n",
    "        # --------- Training ---------\n",
    "        model.train()\n",
    "        total_train_loss = 0\n",
    "\n",
    "        for batch in train_loader:\n",
    "            batch = batch['input_ids'].to(device)  # (batch_size, seq_length)\n",
    "\n",
    "            inputs = batch[:, :-1]\n",
    "            targets = batch[:, 1:]\n",
    "\n",
    "            optimizer.zero_grad()\n",
    "            outputs, _ = model(inputs)\n",
    "            outputs = outputs.reshape(-1, vocab_size)\n",
    "            targets = targets.reshape(-1)\n",
    "\n",
    "            loss = criterion(outputs, targets)\n",
    "            loss.backward()\n",
    "            optimizer.step()\n",
    "\n",
    "            total_train_loss += loss.item()\n",
    "\n",
    "        avg_train_loss = total_train_loss / len(train_loader)\n",
    "\n",
    "        # --------- Validation ---------\n",
    "        model.eval()\n",
    "        total_val_loss = 0\n",
    "        with torch.no_grad():\n",
    "            for batch in val_loader:\n",
    "                batch = batch['input_ids'].to(device)\n",
    "\n",
    "                inputs = batch[:, :-1]\n",
    "                targets = batch[:, 1:]\n",
    "\n",
    "                outputs, _ = model(inputs)\n",
    "                outputs = outputs.reshape(-1, vocab_size)\n",
    "                targets = targets.reshape(-1)\n",
    "\n",
    "                loss = criterion(outputs, targets)\n",
    "                total_val_loss += loss.item()\n",
    "\n",
    "        avg_val_loss = total_val_loss / len(val_loader)\n",
    "\n",
    "        print(f\"Epoch {epoch+1}/{num_epochs} | Train Loss: {avg_train_loss:.4f} | Val Loss: {avg_val_loss:.4f}\")\n",
    "\n",
    "\n",
    "# Example usage\n",
    "if __name__ == \"__main__\":\n",
    "    vocab_size = tokenizer.vocab_size\n",
    "    embedding_dim = 256\n",
    "    hidden_dim = 512\n",
    "    num_layers = 2\n",
    "\n",
    "    model = MusicRNN(vocab_size, embedding_dim, hidden_dim, num_layers)\n",
    "    train(model, train_loader, test_loader, vocab_size)"
   ]
  },
  {
   "cell_type": "markdown",
   "id": "4ecb8e86",
   "metadata": {},
   "source": [
    "Sampling"
   ]
  },
  {
   "cell_type": "code",
   "execution_count": 36,
   "id": "09fb02fb",
   "metadata": {},
   "outputs": [
    {
     "name": "stdout",
     "output_type": "stream",
     "text": [
      "Generated token sequence:\n",
      "[1, 4, 4, 4, 4, 4, 4, 4, 4, 4, 4, 196, 56, 112, 130, 204, 59, 116, 130, 212, 61, 114, 134, 4, 192, 56, 113, 127, 196, 59, 115, 126, 200, 56, 116, 127, 204, 52, 115, 128, 208, 56, 113, 143, 4, 200, 47, 115, 127, 204, 52, 114, 127, 208, 52, 114, 127, 212, 54, 114, 127, 216, 61, 116, 137, 4, 204, 59, 116, 129, 210, 61, 114, 125, 212, 61, 116, 130, 220, 59, 115, 126, 4, 192, 59, 116, 126, 196, 61, 116, 127, 200, 66, 114, 132, 208, 54, 115, 137, 4, 192, 52, 116, 127, 196, 54, 114, 127, 200, 54, 115, 128, 204, 54, 114, 127, 208, 54, 114, 128, 212, 54, 114, 127, 216, 52, 115, 134, 4, 196, 52, 114, 125, 198, 54, 114, 127, 202, 54, 114, 133, 212, 52, 113, 128, 216, 47, 113, 128, 220, 52, 114, 134, 4, 200, 59, 114, 125, 202, 59, 114, 125, 204, 54, 114, 125, 206, 56, 115, 125, 208, 54, 114, 127, 212, 52, 114, 126, 216, 51, 114, 162, 4, 4, 204, 59, 115, 125, 206, 59, 116, 126, 208, 61, 116, 125, 210, 57, 114, 125, 212, 54, 115, 127, 216, 59, 115, 127, 220, 57, 114, 127, 4, 192, 56, 109, 125, 194, 56, 114, 127, 198, 54, 113, 125, 200, 54, 112, 129, 210, 52, 114, 125, 212, 54, 112, 125, 214, 52, 114, 127, 218, 54, 115, 127, 4, 190, 52, 116, 127, 194, 52, 111, 125, 196, 52, 114, 125, 198, 49, 116, 127, 202, 54, 114, 127, 206, 54, 114, 127, 210, 52, 112, 125, 212, 54, 114, 128, 216, 52, 111, 129, 220, 54, 117, 142, 4, 216, 52, 117, 134, 4, 194, 52, 111, 125, 196, 54, 115, 129, 200, 52, 114, 130, 208, 49, 116, 127, 212, 54, 114, 127, 216, 52, 115, 133, 4, 194, 52, 112, 125, 196, 52, 114, 125, 198, 52, 114, 125, 200, 47, 115, 127, 204, 54, 114, 125, 206, 56, 114, 129, 212, 52, 115, 127, 216, 59, 114, 127, 220, 57, 114, 132, 4, 196, 59, 115, 139, 216, 54, 114, 127, 220, 52, 114, 127, 4, 192, 54, 115, 127, 196, 54, 114, 128, 200, 54, 115, 127, 204, 57, 114, 127, 208, 57, 114, 127, 212, 52, 114, 127, 216, 57, 115, 132, 4, 204, 57, 115, 126, 208, 56, 114, 127, 212, 54, 114, 131, 220, 57, 114, 129, 4, 192, 54, 114, 127, 196, 54, 114, 127, 200, 57, 115, 134, 212, 59, 116, 127, 216, 57, 115, 127, 220, 54, 115, 127, 4, 192, 57, 115, 127, 196, 56, 115, 144, 220, 59, 116, 127, 4, 192, 61, 114, 127, 196, 59, 114, 127, 200, 57, 114, 127, 204, 52, 114, 128, 210, 52, 114, 135, 4, 192, 52, 114, 128, 196, 52, 114, 128, 200, 54, 113, 148, 4, 196, 54, 115, 129, 200, 52, 114, 128, 204, 57, 114, 132, 214, 57, 114, 131, 4, 192, 59, 116, 127, 196, 57, 115, 127, 200, 57, 115, 126, 204, 57, 115, 129, 212, 59, 116, 127, 216, 59, 115, 126, 218, 57, 115, 130, 4, 192, 54, 114, 128, 196, 54, 114, 129, 200, 54, 114, 131, 208, 54, 115, 130, 216, 54, 114, 127, 220, 57, 115, 127, 4, 192, 61, 115, 130, 196, 59, 115, 128, 200, 57, 115, 130, 208, 54, 116, 131, 216, 57, 114, 127, 220, 57, 114, 127, 4, 192, 57, 115, 127, 196, 59, 115, 128, 200, 57, 115, 127, 204, 57, 115, 139, 220, 54, 114, 126, 4, 190, 52, 113, 126, 192, 52, 114, 127, 196, 54, 114, 127, 200, 57, 115, 128, 204, 59, 116, 139, 4, 192, 52, 114, 127, 196, 54, 114, 129, 204, 57, 114, 127, 208, 57, 114, 127, 212, 52, 114, 127, 216, 54, 115, 127, 220, 54, 115, 127, 4, 192, 57, 115, 130, 200, 57, 114, 145, 4, 192, 49, 115, 125, 196, 52, 114, 127, 200, 54, 114, 125, 202, 52, 114, 127, 206, 54, 114, 127, 210, 57, 114, 127, 216, 54, 114, 129, 4, 190, 52, 114, 125, 192, 49, 114, 127, 196, 49, 115, 128, 200, 59, 115, 129, 206, 57, 114, 139, 4, 194, 54, 114, 126, 196, 54, 114, 127, 200, 56, 114, 127, 204, 54, 115, 127, 208, 54, 114, 127, 212, 52, 114, 127, 216, 54, 114, 130, 4, 192, 52, 114, 128, 196, 52, 112, 127, 200, 57, 115, 130, 208, 54, 114, 128, 212, 54, 114, 128, 216, 52, 111, 128, 220, 52, 113, 128, 4, 192, 54, 115, 153, 4, 196, 57, 116, 127, 200, 57, 115, 126, 204, 54, 116, 127, 208, 54, 116, 128, 212, 54, 114, 134, 4, 192, 64, 114, 128, 196, 61, 114, 128, 200, 59, 115, 127, 204, 57, 115, 127, 208, 57, 115, 127, 212, 54, 114, 127, 216, 56, 114, 128, 220, 57, 114, 135, 4, 200, 54, 114, 127, 204, 52, 114, 127, 208, 56, 114, 128, 212, 57, 114, 134, 4, 192, 54, 113, 126, 196, 54, 114, 127, 200, 57, 115, 127, 204, 59, 115, 131, 212, 61, 114, 127, 216, 61, 114, 125, 218, 64, 114, 134, 4, 198, 61, 114, 126, 200, 61, 114, 128, 204, 59, 114, 126, 206, 57, 113, 127, 208, 59, 115, 130, 216, 57, 114, 125, 218, 57, 116, 135, 4, 196, 57, 114, 127, 200, 54, 114, 137, 220, 54, 114, 127, 4, 192, 57, 114, 127, 196, 59, 115, 127, 200, 61, 114, 164, 4, 4, 192, 56, 115, 128, 196, 59, 115, 128, 200, 57, 114, 128, 204, 52, 114, 128, 208, 47, 114, 138, 4, 204, 62, 113, 127, 208, 64, 114, 127, 212, 64, 114, 125, 214, 64, 114, 129, 220, 59, 115, 127, 4, 192, 59, 115, 127, 196, 57, 115, 147, 4, 192, 57, 115, 127, 196, 59, 115, 126, 198, 59, 115, 126, 200, 59, 115, 127, 204, 57, 114, 132, 216, 52, 114, 127, 220, 52, 114, 127, 4, 192, 54, 114, 127, 196, 54, 114, 127, 200, 57, 115, 131, 208, 54, 114]\n"
     ]
    }
   ],
   "source": [
    "def sample(model, start_token, max_length=100, temperature=1.0, device=DEVICE):\n",
    "    model = model.to(device)\n",
    "    model.eval()\n",
    "\n",
    "    generated = [start_token]\n",
    "    input_token = torch.tensor([[start_token]], device=device)  # (1, 1)\n",
    "\n",
    "    hidden = None\n",
    "\n",
    "    for _ in range(max_length):\n",
    "        output, hidden = model(input_token, hidden)  # output: (1, 1, vocab_size)\n",
    "        output = output[:, -1, :]  # take the last output\n",
    "        output = output / temperature  # adjust randomness\n",
    "\n",
    "        probs = F.softmax(output, dim=-1)  # (1, vocab_size)\n",
    "        next_token = torch.multinomial(probs, num_samples=1).item()\n",
    "        generated.append(next_token)\n",
    "        if next_token == 2 or next_token == 0: # reach end of sequence\n",
    "          break\n",
    "\n",
    "        input_token = torch.tensor([[next_token]], device=device)\n",
    "\n",
    "    return generated\n",
    "\n",
    "start_token = tokenizer.special_tokens_ids[1]\n",
    "generated_sequence = sample(model, start_token, max_length=1024)\n",
    "\n",
    "print(\"Generated token sequence:\")\n",
    "print(generated_sequence)"
   ]
  },
  {
   "cell_type": "markdown",
   "id": "60f074b3",
   "metadata": {},
   "source": [
    "Convert Midi to Wav"
   ]
  },
  {
   "cell_type": "code",
   "execution_count": 52,
   "id": "99d495e3",
   "metadata": {},
   "outputs": [
    {
     "name": "stderr",
     "output_type": "stream",
     "text": [
      "C:\\Users\\enriq\\AppData\\Local\\Temp\\ipykernel_16024\\3470512235.py:5: UserWarning: miditok: The `tokens_to_midi` method had been renamed `decode`. It is now depreciated and will be removed in future updates.\n",
      "  output_score = tokenizer.tokens_to_midi([generated_sequence])\n"
     ]
    },
    {
     "ename": "FileNotFoundError",
     "evalue": "[WinError 2] The system cannot find the file specified",
     "output_type": "error",
     "traceback": [
      "\u001b[1;31m---------------------------------------------------------------------------\u001b[0m",
      "\u001b[1;31mFileNotFoundError\u001b[0m                         Traceback (most recent call last)",
      "Cell \u001b[1;32mIn[52], line 7\u001b[0m\n\u001b[0;32m      5\u001b[0m output_score \u001b[38;5;241m=\u001b[39m tokenizer\u001b[38;5;241m.\u001b[39mtokens_to_midi([generated_sequence])\n\u001b[0;32m      6\u001b[0m output_score\u001b[38;5;241m.\u001b[39mdump_midi(\u001b[38;5;124mf\u001b[39m\u001b[38;5;124m\"\u001b[39m\u001b[38;5;124mrnn.mid\u001b[39m\u001b[38;5;124m\"\u001b[39m)\n\u001b[1;32m----> 7\u001b[0m \u001b[43mfs\u001b[49m\u001b[38;5;241;43m.\u001b[39;49m\u001b[43mmidi_to_audio\u001b[49m\u001b[43m(\u001b[49m\u001b[38;5;124;43m\"\u001b[39;49m\u001b[38;5;124;43mrnn.mid\u001b[39;49m\u001b[38;5;124;43m\"\u001b[39;49m\u001b[43m,\u001b[49m\u001b[43m \u001b[49m\u001b[38;5;124;43m\"\u001b[39;49m\u001b[38;5;124;43mrnn.wav\u001b[39;49m\u001b[38;5;124;43m\"\u001b[39;49m\u001b[43m)\u001b[49m\n\u001b[0;32m      8\u001b[0m display(Audio(\u001b[38;5;124m\"\u001b[39m\u001b[38;5;124mrnn.wav\u001b[39m\u001b[38;5;124m\"\u001b[39m))\n",
      "File \u001b[1;32m~\\AppData\\Local\\Packages\\PythonSoftwareFoundation.Python.3.11_qbz5n2kfra8p0\\LocalCache\\local-packages\\Python311\\site-packages\\midi2audio.py:46\u001b[0m, in \u001b[0;36mFluidSynth.midi_to_audio\u001b[1;34m(self, midi_file, audio_file)\u001b[0m\n\u001b[0;32m     45\u001b[0m \u001b[38;5;28;01mdef\u001b[39;00m \u001b[38;5;21mmidi_to_audio\u001b[39m(\u001b[38;5;28mself\u001b[39m, midi_file, audio_file):\n\u001b[1;32m---> 46\u001b[0m     \u001b[43msubprocess\u001b[49m\u001b[38;5;241;43m.\u001b[39;49m\u001b[43mcall\u001b[49m\u001b[43m(\u001b[49m\u001b[43m[\u001b[49m\u001b[38;5;124;43m'\u001b[39;49m\u001b[38;5;124;43mfluidsynth\u001b[39;49m\u001b[38;5;124;43m'\u001b[39;49m\u001b[43m,\u001b[49m\u001b[43m \u001b[49m\u001b[38;5;124;43m'\u001b[39;49m\u001b[38;5;124;43m-ni\u001b[39;49m\u001b[38;5;124;43m'\u001b[39;49m\u001b[43m,\u001b[49m\u001b[43m \u001b[49m\u001b[38;5;28;43mself\u001b[39;49m\u001b[38;5;241;43m.\u001b[39;49m\u001b[43msound_font\u001b[49m\u001b[43m,\u001b[49m\u001b[43m \u001b[49m\u001b[43mmidi_file\u001b[49m\u001b[43m,\u001b[49m\u001b[43m \u001b[49m\u001b[38;5;124;43m'\u001b[39;49m\u001b[38;5;124;43m-F\u001b[39;49m\u001b[38;5;124;43m'\u001b[39;49m\u001b[43m,\u001b[49m\u001b[43m \u001b[49m\u001b[43maudio_file\u001b[49m\u001b[43m,\u001b[49m\u001b[43m \u001b[49m\u001b[38;5;124;43m'\u001b[39;49m\u001b[38;5;124;43m-r\u001b[39;49m\u001b[38;5;124;43m'\u001b[39;49m\u001b[43m,\u001b[49m\u001b[43m \u001b[49m\u001b[38;5;28;43mstr\u001b[39;49m\u001b[43m(\u001b[49m\u001b[38;5;28;43mself\u001b[39;49m\u001b[38;5;241;43m.\u001b[39;49m\u001b[43msample_rate\u001b[49m\u001b[43m)\u001b[49m\u001b[43m]\u001b[49m\u001b[43m)\u001b[49m\n",
      "File \u001b[1;32mC:\\Program Files\\WindowsApps\\PythonSoftwareFoundation.Python.3.11_3.11.2544.0_x64__qbz5n2kfra8p0\\Lib\\subprocess.py:389\u001b[0m, in \u001b[0;36mcall\u001b[1;34m(timeout, *popenargs, **kwargs)\u001b[0m\n\u001b[0;32m    381\u001b[0m \u001b[38;5;28;01mdef\u001b[39;00m \u001b[38;5;21mcall\u001b[39m(\u001b[38;5;241m*\u001b[39mpopenargs, timeout\u001b[38;5;241m=\u001b[39m\u001b[38;5;28;01mNone\u001b[39;00m, \u001b[38;5;241m*\u001b[39m\u001b[38;5;241m*\u001b[39mkwargs):\n\u001b[0;32m    382\u001b[0m \u001b[38;5;250m    \u001b[39m\u001b[38;5;124;03m\"\"\"Run command with arguments.  Wait for command to complete or\u001b[39;00m\n\u001b[0;32m    383\u001b[0m \u001b[38;5;124;03m    timeout, then return the returncode attribute.\u001b[39;00m\n\u001b[0;32m    384\u001b[0m \n\u001b[1;32m   (...)\u001b[0m\n\u001b[0;32m    387\u001b[0m \u001b[38;5;124;03m    retcode = call([\"ls\", \"-l\"])\u001b[39;00m\n\u001b[0;32m    388\u001b[0m \u001b[38;5;124;03m    \"\"\"\u001b[39;00m\n\u001b[1;32m--> 389\u001b[0m     \u001b[38;5;28;01mwith\u001b[39;00m \u001b[43mPopen\u001b[49m\u001b[43m(\u001b[49m\u001b[38;5;241;43m*\u001b[39;49m\u001b[43mpopenargs\u001b[49m\u001b[43m,\u001b[49m\u001b[43m \u001b[49m\u001b[38;5;241;43m*\u001b[39;49m\u001b[38;5;241;43m*\u001b[39;49m\u001b[43mkwargs\u001b[49m\u001b[43m)\u001b[49m \u001b[38;5;28;01mas\u001b[39;00m p:\n\u001b[0;32m    390\u001b[0m         \u001b[38;5;28;01mtry\u001b[39;00m:\n\u001b[0;32m    391\u001b[0m             \u001b[38;5;28;01mreturn\u001b[39;00m p\u001b[38;5;241m.\u001b[39mwait(timeout\u001b[38;5;241m=\u001b[39mtimeout)\n",
      "File \u001b[1;32mC:\\Program Files\\WindowsApps\\PythonSoftwareFoundation.Python.3.11_3.11.2544.0_x64__qbz5n2kfra8p0\\Lib\\subprocess.py:1026\u001b[0m, in \u001b[0;36mPopen.__init__\u001b[1;34m(self, args, bufsize, executable, stdin, stdout, stderr, preexec_fn, close_fds, shell, cwd, env, universal_newlines, startupinfo, creationflags, restore_signals, start_new_session, pass_fds, user, group, extra_groups, encoding, errors, text, umask, pipesize, process_group)\u001b[0m\n\u001b[0;32m   1022\u001b[0m         \u001b[38;5;28;01mif\u001b[39;00m \u001b[38;5;28mself\u001b[39m\u001b[38;5;241m.\u001b[39mtext_mode:\n\u001b[0;32m   1023\u001b[0m             \u001b[38;5;28mself\u001b[39m\u001b[38;5;241m.\u001b[39mstderr \u001b[38;5;241m=\u001b[39m io\u001b[38;5;241m.\u001b[39mTextIOWrapper(\u001b[38;5;28mself\u001b[39m\u001b[38;5;241m.\u001b[39mstderr,\n\u001b[0;32m   1024\u001b[0m                     encoding\u001b[38;5;241m=\u001b[39mencoding, errors\u001b[38;5;241m=\u001b[39merrors)\n\u001b[1;32m-> 1026\u001b[0m     \u001b[38;5;28;43mself\u001b[39;49m\u001b[38;5;241;43m.\u001b[39;49m\u001b[43m_execute_child\u001b[49m\u001b[43m(\u001b[49m\u001b[43margs\u001b[49m\u001b[43m,\u001b[49m\u001b[43m \u001b[49m\u001b[43mexecutable\u001b[49m\u001b[43m,\u001b[49m\u001b[43m \u001b[49m\u001b[43mpreexec_fn\u001b[49m\u001b[43m,\u001b[49m\u001b[43m \u001b[49m\u001b[43mclose_fds\u001b[49m\u001b[43m,\u001b[49m\n\u001b[0;32m   1027\u001b[0m \u001b[43m                        \u001b[49m\u001b[43mpass_fds\u001b[49m\u001b[43m,\u001b[49m\u001b[43m \u001b[49m\u001b[43mcwd\u001b[49m\u001b[43m,\u001b[49m\u001b[43m \u001b[49m\u001b[43menv\u001b[49m\u001b[43m,\u001b[49m\n\u001b[0;32m   1028\u001b[0m \u001b[43m                        \u001b[49m\u001b[43mstartupinfo\u001b[49m\u001b[43m,\u001b[49m\u001b[43m \u001b[49m\u001b[43mcreationflags\u001b[49m\u001b[43m,\u001b[49m\u001b[43m \u001b[49m\u001b[43mshell\u001b[49m\u001b[43m,\u001b[49m\n\u001b[0;32m   1029\u001b[0m \u001b[43m                        \u001b[49m\u001b[43mp2cread\u001b[49m\u001b[43m,\u001b[49m\u001b[43m \u001b[49m\u001b[43mp2cwrite\u001b[49m\u001b[43m,\u001b[49m\n\u001b[0;32m   1030\u001b[0m \u001b[43m                        \u001b[49m\u001b[43mc2pread\u001b[49m\u001b[43m,\u001b[49m\u001b[43m \u001b[49m\u001b[43mc2pwrite\u001b[49m\u001b[43m,\u001b[49m\n\u001b[0;32m   1031\u001b[0m \u001b[43m                        \u001b[49m\u001b[43merrread\u001b[49m\u001b[43m,\u001b[49m\u001b[43m \u001b[49m\u001b[43merrwrite\u001b[49m\u001b[43m,\u001b[49m\n\u001b[0;32m   1032\u001b[0m \u001b[43m                        \u001b[49m\u001b[43mrestore_signals\u001b[49m\u001b[43m,\u001b[49m\n\u001b[0;32m   1033\u001b[0m \u001b[43m                        \u001b[49m\u001b[43mgid\u001b[49m\u001b[43m,\u001b[49m\u001b[43m \u001b[49m\u001b[43mgids\u001b[49m\u001b[43m,\u001b[49m\u001b[43m \u001b[49m\u001b[43muid\u001b[49m\u001b[43m,\u001b[49m\u001b[43m \u001b[49m\u001b[43mumask\u001b[49m\u001b[43m,\u001b[49m\n\u001b[0;32m   1034\u001b[0m \u001b[43m                        \u001b[49m\u001b[43mstart_new_session\u001b[49m\u001b[43m,\u001b[49m\u001b[43m \u001b[49m\u001b[43mprocess_group\u001b[49m\u001b[43m)\u001b[49m\n\u001b[0;32m   1035\u001b[0m \u001b[38;5;28;01mexcept\u001b[39;00m:\n\u001b[0;32m   1036\u001b[0m     \u001b[38;5;66;03m# Cleanup if the child failed starting.\u001b[39;00m\n\u001b[0;32m   1037\u001b[0m     \u001b[38;5;28;01mfor\u001b[39;00m f \u001b[38;5;129;01min\u001b[39;00m \u001b[38;5;28mfilter\u001b[39m(\u001b[38;5;28;01mNone\u001b[39;00m, (\u001b[38;5;28mself\u001b[39m\u001b[38;5;241m.\u001b[39mstdin, \u001b[38;5;28mself\u001b[39m\u001b[38;5;241m.\u001b[39mstdout, \u001b[38;5;28mself\u001b[39m\u001b[38;5;241m.\u001b[39mstderr)):\n",
      "File \u001b[1;32mC:\\Program Files\\WindowsApps\\PythonSoftwareFoundation.Python.3.11_3.11.2544.0_x64__qbz5n2kfra8p0\\Lib\\subprocess.py:1538\u001b[0m, in \u001b[0;36mPopen._execute_child\u001b[1;34m(self, args, executable, preexec_fn, close_fds, pass_fds, cwd, env, startupinfo, creationflags, shell, p2cread, p2cwrite, c2pread, c2pwrite, errread, errwrite, unused_restore_signals, unused_gid, unused_gids, unused_uid, unused_umask, unused_start_new_session, unused_process_group)\u001b[0m\n\u001b[0;32m   1536\u001b[0m \u001b[38;5;66;03m# Start the process\u001b[39;00m\n\u001b[0;32m   1537\u001b[0m \u001b[38;5;28;01mtry\u001b[39;00m:\n\u001b[1;32m-> 1538\u001b[0m     hp, ht, pid, tid \u001b[38;5;241m=\u001b[39m _winapi\u001b[38;5;241m.\u001b[39mCreateProcess(executable, args,\n\u001b[0;32m   1539\u001b[0m                              \u001b[38;5;66;03m# no special security\u001b[39;00m\n\u001b[0;32m   1540\u001b[0m                              \u001b[38;5;28;01mNone\u001b[39;00m, \u001b[38;5;28;01mNone\u001b[39;00m,\n\u001b[0;32m   1541\u001b[0m                              \u001b[38;5;28mint\u001b[39m(\u001b[38;5;129;01mnot\u001b[39;00m close_fds),\n\u001b[0;32m   1542\u001b[0m                              creationflags,\n\u001b[0;32m   1543\u001b[0m                              env,\n\u001b[0;32m   1544\u001b[0m                              cwd,\n\u001b[0;32m   1545\u001b[0m                              startupinfo)\n\u001b[0;32m   1546\u001b[0m \u001b[38;5;28;01mfinally\u001b[39;00m:\n\u001b[0;32m   1547\u001b[0m     \u001b[38;5;66;03m# Child is launched. Close the parent's copy of those pipe\u001b[39;00m\n\u001b[0;32m   1548\u001b[0m     \u001b[38;5;66;03m# handles that only the child should have open.  You need\u001b[39;00m\n\u001b[1;32m   (...)\u001b[0m\n\u001b[0;32m   1551\u001b[0m     \u001b[38;5;66;03m# pipe will not close when the child process exits and the\u001b[39;00m\n\u001b[0;32m   1552\u001b[0m     \u001b[38;5;66;03m# ReadFile will hang.\u001b[39;00m\n\u001b[0;32m   1553\u001b[0m     \u001b[38;5;28mself\u001b[39m\u001b[38;5;241m.\u001b[39m_close_pipe_fds(p2cread, p2cwrite,\n\u001b[0;32m   1554\u001b[0m                          c2pread, c2pwrite,\n\u001b[0;32m   1555\u001b[0m                          errread, errwrite)\n",
      "\u001b[1;31mFileNotFoundError\u001b[0m: [WinError 2] The system cannot find the file specified"
     ]
    }
   ],
   "source": [
    "from midi2audio import FluidSynth # Import library\n",
    "from IPython.display import Audio, display\n",
    "fs = FluidSynth(\"FluidR3_GM.sf2\") # Initialize FluidSynth\n",
    "\n",
    "output_score = tokenizer.tokens_to_midi([generated_sequence])\n",
    "output_score.dump_midi(f\"rnn.mid\")\n",
    "fs.midi_to_audio(\"rnn.mid\", \"rnn.wav\")\n",
    "display(Audio(\"rnn.wav\"))\n",
    "\n"
   ]
  }
 ],
 "metadata": {
  "kernelspec": {
   "display_name": "Python 3",
   "language": "python",
   "name": "python3"
  },
  "language_info": {
   "codemirror_mode": {
    "name": "ipython",
    "version": 3
   },
   "file_extension": ".py",
   "mimetype": "text/x-python",
   "name": "python",
   "nbconvert_exporter": "python",
   "pygments_lexer": "ipython3",
   "version": "3.11.9"
  }
 },
 "nbformat": 4,
 "nbformat_minor": 5
}
